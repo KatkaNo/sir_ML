{
 "cells": [
  {
   "cell_type": "markdown",
   "metadata": {
    "collapsed": true,
    "jupyter": {
     "outputs_hidden": true
    },
    "pycharm": {
     "name": "#%% md\n"
    }
   },
   "source": [
    "# Градиентный бустинг на решающих деревьях"
   ]
  },
  {
   "cell_type": "markdown",
   "metadata": {
    "pycharm": {
     "name": "#%% md\n"
    }
   },
   "source": [
    "## Как правильно перебирать параметры\n",
    "\n",
    "В этом ноутбуке мы будем заниматься поиском оптимальных параметров для градиентного бустинга, перебирая задания по заданной сетке. В этом задании от Вас не будет требоваться найти самые лучшие параметры, но всё равно важно правильно составлять сетку для перебора. Для этого нужно понимать суть параметров и их смысл.\n",
    "\n",
    "\n",
    "\n",
    "**learning_rate** -- темп обучения нашего метода. Для этого метода сетка перебора должна быть логарифмической, т.е. перебирать порядковые значения (к примеру, [1e-3, 1e-2, 1e-1, 1]). В большинстве случаев достаточно перебрать значения от 1e-5 до 1.<br />\n",
    "**max_depth** -- максимальная глубина деревьев в ансамбле. Вообще говоря, эта величина зависит от числа признаков, но обычно лучше растить небольшие деревья. К примеру, библиотека CatBoost, которую мы будем исследовать сегодня, рекомендует перебирать значения до 10 (и уточняется, что обычно оптимальная глубина лежит от 6 до 10).<br />\n",
    "**n_estimators** -- количество деревьев в ансамбле. Обычно стоит перебирать с каким-то крупным шагом (можно по логарифмической сетке). Здесь важно найти баланс между производительностью, временем обучения и качеством. Обычно нескольких тысяч деревьев бывает достаточно.<br />\n",
    "\n",
    "Учтите, что в реальных задачах необходимо следить за тем, что оптимальные значения параметров не попадают на границы интервалов, т.е. что вы нашли хотя бы локальный минимум. Если Вы перебрали значения параметра от 1 до 10 и оказалось, что 10 - оптимальное значение, значит следует перебрать и бОльшие числа, чтобы убедиться, что качество не улучшается дальше (или по крайней мере убедиться, что рост качества сильно замедляется и на сильное улучшения рассчитывать не стоит.\n"
   ]
  },
  {
   "cell_type": "markdown",
   "metadata": {},
   "source": [
    "## Подготовка датасета\n",
    "\n",
    "Все библиотеки, используемые сегодня, мы будем проверять на одних и тех же параметрах: n_estimators=1000, max_depth=5, learning_rate=0.1. Таким образом мы устанавливаем, соответственно, число деревьев в ансамбле равным 1000, ограничиваем максимальную глубину деревьев 5 и устанавливаем темп обучения равным 0.1."
   ]
  },
  {
   "cell_type": "code",
   "execution_count": 43,
   "metadata": {
    "ExecuteTime": {
     "end_time": "2024-03-22T07:50:33.332076Z",
     "start_time": "2024-03-22T07:50:33.328457Z"
    },
    "pycharm": {
     "name": "#%%\n"
    }
   },
   "outputs": [],
   "source": [
    "%matplotlib inline\n",
    "from sklearn.ensemble import GradientBoostingRegressor\n",
    "from sklearn.model_selection import train_test_split, GridSearchCV, cross_val_score\n",
    "from sklearn.metrics import mean_absolute_error, make_scorer\n",
    "from sklearn.metrics import mean_squared_error\n",
    "from hyperopt import hp, tpe, Trials\n",
    "from hyperopt.fmin import fmin\n",
    "from hyperopt.pyll import scope\n",
    "from xgboost import XGBRegressor\n",
    "from lightgbm import LGBMRegressor\n",
    "from catboost import CatBoostRegressor\n",
    "import matplotlib.pyplot as plt\n",
    "import pandas as pd\n",
    "import numpy as np\n",
    "import time"
   ]
  },
  {
   "cell_type": "code",
   "execution_count": 44,
   "metadata": {
    "ExecuteTime": {
     "end_time": "2024-03-22T07:50:33.348834Z",
     "start_time": "2024-03-22T07:50:33.332851Z"
    },
    "pycharm": {
     "name": "#%%\n"
    }
   },
   "outputs": [
    {
     "data": {
      "text/html": [
       "<div>\n",
       "<style scoped>\n",
       "    .dataframe tbody tr th:only-of-type {\n",
       "        vertical-align: middle;\n",
       "    }\n",
       "\n",
       "    .dataframe tbody tr th {\n",
       "        vertical-align: top;\n",
       "    }\n",
       "\n",
       "    .dataframe thead th {\n",
       "        text-align: right;\n",
       "    }\n",
       "</style>\n",
       "<table border=\"1\" class=\"dataframe\">\n",
       "  <thead>\n",
       "    <tr style=\"text-align: right;\">\n",
       "      <th></th>\n",
       "      <th>Engine Capacity</th>\n",
       "      <th>Cylinders</th>\n",
       "      <th>Drive Type</th>\n",
       "      <th>Fuel Tank Capacity</th>\n",
       "      <th>Fuel Economy</th>\n",
       "      <th>Fuel Type</th>\n",
       "      <th>Horsepower</th>\n",
       "      <th>Torque</th>\n",
       "      <th>Transmission</th>\n",
       "      <th>Top Speed</th>\n",
       "      <th>...</th>\n",
       "      <th>Acceleration</th>\n",
       "      <th>Length</th>\n",
       "      <th>Width</th>\n",
       "      <th>Height</th>\n",
       "      <th>Wheelbase</th>\n",
       "      <th>Trunk Capacity</th>\n",
       "      <th>name</th>\n",
       "      <th>price</th>\n",
       "      <th>currency</th>\n",
       "      <th>Country</th>\n",
       "    </tr>\n",
       "  </thead>\n",
       "  <tbody>\n",
       "    <tr>\n",
       "      <th>0</th>\n",
       "      <td>1.2</td>\n",
       "      <td>3</td>\n",
       "      <td>0</td>\n",
       "      <td>42.0</td>\n",
       "      <td>4.9</td>\n",
       "      <td>0</td>\n",
       "      <td>76</td>\n",
       "      <td>100.0</td>\n",
       "      <td>0</td>\n",
       "      <td>170</td>\n",
       "      <td>...</td>\n",
       "      <td>14.0</td>\n",
       "      <td>4.245</td>\n",
       "      <td>1.670</td>\n",
       "      <td>1.515</td>\n",
       "      <td>2.550</td>\n",
       "      <td>450.0</td>\n",
       "      <td>Mitsubishi Attrage 2021 1.2 GLX (Base)</td>\n",
       "      <td>34099.0</td>\n",
       "      <td>0</td>\n",
       "      <td>0</td>\n",
       "    </tr>\n",
       "    <tr>\n",
       "      <th>1</th>\n",
       "      <td>1.2</td>\n",
       "      <td>3</td>\n",
       "      <td>0</td>\n",
       "      <td>42.0</td>\n",
       "      <td>4.9</td>\n",
       "      <td>0</td>\n",
       "      <td>76</td>\n",
       "      <td>100.0</td>\n",
       "      <td>0</td>\n",
       "      <td>170</td>\n",
       "      <td>...</td>\n",
       "      <td>14.0</td>\n",
       "      <td>4.245</td>\n",
       "      <td>1.670</td>\n",
       "      <td>1.515</td>\n",
       "      <td>2.550</td>\n",
       "      <td>450.0</td>\n",
       "      <td>Mitsubishi Attrage 2021 1.2 GLX (Base)</td>\n",
       "      <td>34099.0</td>\n",
       "      <td>0</td>\n",
       "      <td>0</td>\n",
       "    </tr>\n",
       "    <tr>\n",
       "      <th>2</th>\n",
       "      <td>1.4</td>\n",
       "      <td>4</td>\n",
       "      <td>0</td>\n",
       "      <td>45.0</td>\n",
       "      <td>6.3</td>\n",
       "      <td>0</td>\n",
       "      <td>75</td>\n",
       "      <td>118.0</td>\n",
       "      <td>1</td>\n",
       "      <td>156</td>\n",
       "      <td>...</td>\n",
       "      <td>16.0</td>\n",
       "      <td>3.864</td>\n",
       "      <td>1.716</td>\n",
       "      <td>1.721</td>\n",
       "      <td>2.513</td>\n",
       "      <td>2800.0</td>\n",
       "      <td>Fiat Fiorino 2021 1.4L Standard</td>\n",
       "      <td>41250.0</td>\n",
       "      <td>0</td>\n",
       "      <td>0</td>\n",
       "    </tr>\n",
       "    <tr>\n",
       "      <th>3</th>\n",
       "      <td>1.6</td>\n",
       "      <td>4</td>\n",
       "      <td>0</td>\n",
       "      <td>50.0</td>\n",
       "      <td>6.4</td>\n",
       "      <td>0</td>\n",
       "      <td>102</td>\n",
       "      <td>145.0</td>\n",
       "      <td>0</td>\n",
       "      <td>180</td>\n",
       "      <td>...</td>\n",
       "      <td>11.0</td>\n",
       "      <td>4.354</td>\n",
       "      <td>1.994</td>\n",
       "      <td>1.529</td>\n",
       "      <td>2.635</td>\n",
       "      <td>510.0</td>\n",
       "      <td>Renault Symbol 2021 1.6L PE</td>\n",
       "      <td>44930.0</td>\n",
       "      <td>0</td>\n",
       "      <td>0</td>\n",
       "    </tr>\n",
       "    <tr>\n",
       "      <th>4</th>\n",
       "      <td>1.5</td>\n",
       "      <td>4</td>\n",
       "      <td>0</td>\n",
       "      <td>48.0</td>\n",
       "      <td>5.8</td>\n",
       "      <td>0</td>\n",
       "      <td>112</td>\n",
       "      <td>150.0</td>\n",
       "      <td>0</td>\n",
       "      <td>170</td>\n",
       "      <td>...</td>\n",
       "      <td>10.9</td>\n",
       "      <td>4.314</td>\n",
       "      <td>1.809</td>\n",
       "      <td>1.624</td>\n",
       "      <td>2.585</td>\n",
       "      <td>448.0</td>\n",
       "      <td>MG ZS 2021 1.5L STD</td>\n",
       "      <td>57787.0</td>\n",
       "      <td>0</td>\n",
       "      <td>0</td>\n",
       "    </tr>\n",
       "  </tbody>\n",
       "</table>\n",
       "<p>5 rows × 21 columns</p>\n",
       "</div>"
      ],
      "text/plain": [
       "   Engine Capacity  Cylinders  Drive Type  Fuel Tank Capacity  Fuel Economy  \\\n",
       "0              1.2          3           0                42.0           4.9   \n",
       "1              1.2          3           0                42.0           4.9   \n",
       "2              1.4          4           0                45.0           6.3   \n",
       "3              1.6          4           0                50.0           6.4   \n",
       "4              1.5          4           0                48.0           5.8   \n",
       "\n",
       "   Fuel Type  Horsepower  Torque  Transmission  Top Speed  ...  Acceleration  \\\n",
       "0          0          76   100.0             0        170  ...          14.0   \n",
       "1          0          76   100.0             0        170  ...          14.0   \n",
       "2          0          75   118.0             1        156  ...          16.0   \n",
       "3          0         102   145.0             0        180  ...          11.0   \n",
       "4          0         112   150.0             0        170  ...          10.9   \n",
       "\n",
       "   Length  Width  Height  Wheelbase  Trunk Capacity  \\\n",
       "0   4.245  1.670   1.515      2.550           450.0   \n",
       "1   4.245  1.670   1.515      2.550           450.0   \n",
       "2   3.864  1.716   1.721      2.513          2800.0   \n",
       "3   4.354  1.994   1.529      2.635           510.0   \n",
       "4   4.314  1.809   1.624      2.585           448.0   \n",
       "\n",
       "                                     name    price  currency  Country  \n",
       "0  Mitsubishi Attrage 2021 1.2 GLX (Base)  34099.0         0        0  \n",
       "1  Mitsubishi Attrage 2021 1.2 GLX (Base)  34099.0         0        0  \n",
       "2         Fiat Fiorino 2021 1.4L Standard  41250.0         0        0  \n",
       "3             Renault Symbol 2021 1.6L PE  44930.0         0        0  \n",
       "4                     MG ZS 2021 1.5L STD  57787.0         0        0  \n",
       "\n",
       "[5 rows x 21 columns]"
      ]
     },
     "execution_count": 44,
     "metadata": {},
     "output_type": "execute_result"
    }
   ],
   "source": [
    "test_parameters = {\"n_estimators\": 1000, \"max_depth\": 5, \"learning_rate\":0.1}\n",
    "\n",
    "df = pd.read_csv('dataframe_YesIndex_YesHeader_C.csv', index_col=0)\n",
    "df.head()"
   ]
  },
  {
   "cell_type": "markdown",
   "metadata": {},
   "source": [
    "В глаза бросаются две проблемы: у нас имеется информация о производителе автомобиля, скрытая в текстовой переменной модели автомобиля (нет отдельного признака). Также имеются некоторые категориальные переменные.\n",
    "\n",
    "**Данные**: датасет со стоимостью поддержанных автомобилей  \n",
    "**Цели**: В данном задании следует выполнить следующие пункты (выполнять можно в любом порядке)\n",
    "1. Изучить датасет, проверить наличие пропусков. При необходимости заменить их на среднее значение признака.\n",
    "3. Добавить столбец brand с информацией о производителе автомобиля (для простоты можно взять первое слово в названии модели). Столбец name удалить из датасета\n",
    "4. Решить, какие признаки Вы хотите сделать категориальными. Конвертировать выбранные категориальные столбцы в тип category. \n",
    "5. Создать датасет А с категориальными признаками в виде категорий. Для этого необходимо создать вектор целевых значений (столбец цен автомобилей) и матрицу признаков с категориальными переменными в виде категорий (получается путем удаления только целевой переменной из матрицы с данными). Дополнительно стоит создать список с названиями и индексами столбцов категориальных переменных (поможет в будущем).\n",
    "6. Создать датасет B, с удаленными категориальными признаками.\n",
    "7. Создать датасет C с категориальными признаками в виде one-hot encoding. Для этого необходимо создать вектор целевых значений (столбец цен автомобилей), удалить из матрицы признаков столбец с целевыми переменными и все категориальными переменные, а затем добавить новые признаки, соответствующие one-hot encoding категориальных переменных (здесь вам поможет функция `pd.get_dummies`).\n",
    "8. Разбить датасеты на тренировочное и тестовое множества, используя `train_test_split(X, y, test_size=0.25, random_state=0)`"
   ]
  },
  {
   "cell_type": "code",
   "execution_count": 45,
   "metadata": {
    "ExecuteTime": {
     "end_time": "2024-03-22T07:50:33.351317Z",
     "start_time": "2024-03-22T07:50:33.349548Z"
    },
    "collapsed": false,
    "jupyter": {
     "outputs_hidden": false
    }
   },
   "outputs": [],
   "source": [
    "datasets = {'A' : None, 'B': None, 'C': None}"
   ]
  },
  {
   "cell_type": "markdown",
   "metadata": {},
   "source": [
    "**Работа с датасетом**"
   ]
  },
  {
   "cell_type": "code",
   "execution_count": 46,
   "metadata": {
    "ExecuteTime": {
     "end_time": "2024-03-22T07:50:33.355521Z",
     "start_time": "2024-03-22T07:50:33.352153Z"
    },
    "collapsed": false,
    "jupyter": {
     "outputs_hidden": false
    }
   },
   "outputs": [
    {
     "name": "stdout",
     "output_type": "stream",
     "text": [
      "Пропуски в данных:\n",
      "Engine Capacity       0\n",
      "Cylinders             0\n",
      "Drive Type            0\n",
      "Fuel Tank Capacity    0\n",
      "Fuel Economy          0\n",
      "Fuel Type             0\n",
      "Horsepower            0\n",
      "Torque                0\n",
      "Transmission          0\n",
      "Top Speed             0\n",
      "Seating Capacity      0\n",
      "Acceleration          0\n",
      "Length                0\n",
      "Width                 0\n",
      "Height                0\n",
      "Wheelbase             0\n",
      "Trunk Capacity        0\n",
      "name                  0\n",
      "price                 0\n",
      "currency              0\n",
      "Country               0\n",
      "dtype: int64\n"
     ]
    }
   ],
   "source": [
    "# Проверяем наличие пропусков\n",
    "print(\"Пропуски в данных:\")\n",
    "print(df.isnull().sum())\n",
    "# if df.isnull().sum().any(): # замена пропусков средним значением признака, если они есть\n",
    "#     df.fillna(df.mean(), inplace=True)"
   ]
  },
  {
   "cell_type": "markdown",
   "metadata": {},
   "source": [
    "**Добавляем столбец brand**"
   ]
  },
  {
   "cell_type": "code",
   "execution_count": 47,
   "metadata": {
    "ExecuteTime": {
     "end_time": "2024-03-22T07:50:33.372200Z",
     "start_time": "2024-03-22T07:50:33.356307Z"
    },
    "pycharm": {
     "name": "#%%\n"
    }
   },
   "outputs": [
    {
     "data": {
      "text/html": [
       "<div>\n",
       "<style scoped>\n",
       "    .dataframe tbody tr th:only-of-type {\n",
       "        vertical-align: middle;\n",
       "    }\n",
       "\n",
       "    .dataframe tbody tr th {\n",
       "        vertical-align: top;\n",
       "    }\n",
       "\n",
       "    .dataframe thead th {\n",
       "        text-align: right;\n",
       "    }\n",
       "</style>\n",
       "<table border=\"1\" class=\"dataframe\">\n",
       "  <thead>\n",
       "    <tr style=\"text-align: right;\">\n",
       "      <th></th>\n",
       "      <th>Engine Capacity</th>\n",
       "      <th>Cylinders</th>\n",
       "      <th>Drive Type</th>\n",
       "      <th>Fuel Tank Capacity</th>\n",
       "      <th>Fuel Economy</th>\n",
       "      <th>Fuel Type</th>\n",
       "      <th>Horsepower</th>\n",
       "      <th>Torque</th>\n",
       "      <th>Transmission</th>\n",
       "      <th>Top Speed</th>\n",
       "      <th>...</th>\n",
       "      <th>Acceleration</th>\n",
       "      <th>Length</th>\n",
       "      <th>Width</th>\n",
       "      <th>Height</th>\n",
       "      <th>Wheelbase</th>\n",
       "      <th>Trunk Capacity</th>\n",
       "      <th>price</th>\n",
       "      <th>currency</th>\n",
       "      <th>Country</th>\n",
       "      <th>brand</th>\n",
       "    </tr>\n",
       "  </thead>\n",
       "  <tbody>\n",
       "    <tr>\n",
       "      <th>0</th>\n",
       "      <td>1.2</td>\n",
       "      <td>3</td>\n",
       "      <td>0</td>\n",
       "      <td>42.0</td>\n",
       "      <td>4.9</td>\n",
       "      <td>0</td>\n",
       "      <td>76</td>\n",
       "      <td>100.0</td>\n",
       "      <td>0</td>\n",
       "      <td>170</td>\n",
       "      <td>...</td>\n",
       "      <td>14.0</td>\n",
       "      <td>4.245</td>\n",
       "      <td>1.670</td>\n",
       "      <td>1.515</td>\n",
       "      <td>2.550</td>\n",
       "      <td>450.0</td>\n",
       "      <td>34099.0</td>\n",
       "      <td>0</td>\n",
       "      <td>0</td>\n",
       "      <td>Mitsubishi</td>\n",
       "    </tr>\n",
       "    <tr>\n",
       "      <th>1</th>\n",
       "      <td>1.2</td>\n",
       "      <td>3</td>\n",
       "      <td>0</td>\n",
       "      <td>42.0</td>\n",
       "      <td>4.9</td>\n",
       "      <td>0</td>\n",
       "      <td>76</td>\n",
       "      <td>100.0</td>\n",
       "      <td>0</td>\n",
       "      <td>170</td>\n",
       "      <td>...</td>\n",
       "      <td>14.0</td>\n",
       "      <td>4.245</td>\n",
       "      <td>1.670</td>\n",
       "      <td>1.515</td>\n",
       "      <td>2.550</td>\n",
       "      <td>450.0</td>\n",
       "      <td>34099.0</td>\n",
       "      <td>0</td>\n",
       "      <td>0</td>\n",
       "      <td>Mitsubishi</td>\n",
       "    </tr>\n",
       "    <tr>\n",
       "      <th>2</th>\n",
       "      <td>1.4</td>\n",
       "      <td>4</td>\n",
       "      <td>0</td>\n",
       "      <td>45.0</td>\n",
       "      <td>6.3</td>\n",
       "      <td>0</td>\n",
       "      <td>75</td>\n",
       "      <td>118.0</td>\n",
       "      <td>1</td>\n",
       "      <td>156</td>\n",
       "      <td>...</td>\n",
       "      <td>16.0</td>\n",
       "      <td>3.864</td>\n",
       "      <td>1.716</td>\n",
       "      <td>1.721</td>\n",
       "      <td>2.513</td>\n",
       "      <td>2800.0</td>\n",
       "      <td>41250.0</td>\n",
       "      <td>0</td>\n",
       "      <td>0</td>\n",
       "      <td>Fiat</td>\n",
       "    </tr>\n",
       "    <tr>\n",
       "      <th>3</th>\n",
       "      <td>1.6</td>\n",
       "      <td>4</td>\n",
       "      <td>0</td>\n",
       "      <td>50.0</td>\n",
       "      <td>6.4</td>\n",
       "      <td>0</td>\n",
       "      <td>102</td>\n",
       "      <td>145.0</td>\n",
       "      <td>0</td>\n",
       "      <td>180</td>\n",
       "      <td>...</td>\n",
       "      <td>11.0</td>\n",
       "      <td>4.354</td>\n",
       "      <td>1.994</td>\n",
       "      <td>1.529</td>\n",
       "      <td>2.635</td>\n",
       "      <td>510.0</td>\n",
       "      <td>44930.0</td>\n",
       "      <td>0</td>\n",
       "      <td>0</td>\n",
       "      <td>Renault</td>\n",
       "    </tr>\n",
       "    <tr>\n",
       "      <th>4</th>\n",
       "      <td>1.5</td>\n",
       "      <td>4</td>\n",
       "      <td>0</td>\n",
       "      <td>48.0</td>\n",
       "      <td>5.8</td>\n",
       "      <td>0</td>\n",
       "      <td>112</td>\n",
       "      <td>150.0</td>\n",
       "      <td>0</td>\n",
       "      <td>170</td>\n",
       "      <td>...</td>\n",
       "      <td>10.9</td>\n",
       "      <td>4.314</td>\n",
       "      <td>1.809</td>\n",
       "      <td>1.624</td>\n",
       "      <td>2.585</td>\n",
       "      <td>448.0</td>\n",
       "      <td>57787.0</td>\n",
       "      <td>0</td>\n",
       "      <td>0</td>\n",
       "      <td>MG</td>\n",
       "    </tr>\n",
       "  </tbody>\n",
       "</table>\n",
       "<p>5 rows × 21 columns</p>\n",
       "</div>"
      ],
      "text/plain": [
       "   Engine Capacity  Cylinders  Drive Type  Fuel Tank Capacity  Fuel Economy  \\\n",
       "0              1.2          3           0                42.0           4.9   \n",
       "1              1.2          3           0                42.0           4.9   \n",
       "2              1.4          4           0                45.0           6.3   \n",
       "3              1.6          4           0                50.0           6.4   \n",
       "4              1.5          4           0                48.0           5.8   \n",
       "\n",
       "   Fuel Type  Horsepower  Torque  Transmission  Top Speed  ...  Acceleration  \\\n",
       "0          0          76   100.0             0        170  ...          14.0   \n",
       "1          0          76   100.0             0        170  ...          14.0   \n",
       "2          0          75   118.0             1        156  ...          16.0   \n",
       "3          0         102   145.0             0        180  ...          11.0   \n",
       "4          0         112   150.0             0        170  ...          10.9   \n",
       "\n",
       "   Length  Width  Height  Wheelbase  Trunk Capacity    price  currency  \\\n",
       "0   4.245  1.670   1.515      2.550           450.0  34099.0         0   \n",
       "1   4.245  1.670   1.515      2.550           450.0  34099.0         0   \n",
       "2   3.864  1.716   1.721      2.513          2800.0  41250.0         0   \n",
       "3   4.354  1.994   1.529      2.635           510.0  44930.0         0   \n",
       "4   4.314  1.809   1.624      2.585           448.0  57787.0         0   \n",
       "\n",
       "   Country       brand  \n",
       "0        0  Mitsubishi  \n",
       "1        0  Mitsubishi  \n",
       "2        0        Fiat  \n",
       "3        0     Renault  \n",
       "4        0          MG  \n",
       "\n",
       "[5 rows x 21 columns]"
      ]
     },
     "execution_count": 47,
     "metadata": {},
     "output_type": "execute_result"
    }
   ],
   "source": [
    "df['brand'] = df['name'].str.split().str[0] \n",
    "df.drop(columns=['name'], inplace=True) \n",
    "df.head()"
   ]
  },
  {
   "cell_type": "markdown",
   "metadata": {},
   "source": [
    "**Конвертация признаков в тип category**"
   ]
  },
  {
   "cell_type": "code",
   "execution_count": 48,
   "metadata": {
    "ExecuteTime": {
     "end_time": "2024-03-22T07:50:33.378671Z",
     "start_time": "2024-03-22T07:50:33.373561Z"
    },
    "collapsed": false,
    "jupyter": {
     "outputs_hidden": false
    }
   },
   "outputs": [],
   "source": [
    "categorical_columns = ['Transmission', 'Seating Capacity', 'Cylinders', 'Country', 'brand'] # категориальные признаки\n",
    "df[categorical_columns] = df[categorical_columns].astype('category') # конвертирую в тип category"
   ]
  },
  {
   "cell_type": "markdown",
   "metadata": {},
   "source": [
    "**Создаем датасет А с категориальными признаками в виде категорий**"
   ]
  },
  {
   "cell_type": "code",
   "execution_count": 49,
   "metadata": {
    "ExecuteTime": {
     "end_time": "2024-03-22T07:50:33.385062Z",
     "start_time": "2024-03-22T07:50:33.379403Z"
    },
    "collapsed": false,
    "jupyter": {
     "outputs_hidden": false
    }
   },
   "outputs": [
    {
     "name": "stdout",
     "output_type": "stream",
     "text": [
      "[8, 10, 1, 18, 19]\n"
     ]
    }
   ],
   "source": [
    "A = df.copy()\n",
    "\n",
    "categorical_columns_A = ['Transmission', 'Seating Capacity', 'Cylinders', 'Country', 'brand'] # категориальные признаки\n",
    "\n",
    "y = A['price'] # вектор целевых значений\n",
    "\n",
    "A = A.drop(columns=['price']) # удаление столбца 'Price' из матрицы признаков\n",
    "\n",
    "categorical_columns_ind_A = [A.columns.get_loc(col) for col in categorical_columns_A] # список с названиями и индексами столбцов категориальных переменных для датасета А\n",
    "\n",
    "A[categorical_columns_A] = A[categorical_columns_A].astype('category') # преобразуем категориальные признаки в тип 'category' для датасета А\n",
    "\n",
    "print(categorical_columns_ind_A)"
   ]
  },
  {
   "cell_type": "markdown",
   "metadata": {},
   "source": [
    "**Создаем датасет B, с удаленными категориальными признаками**"
   ]
  },
  {
   "cell_type": "code",
   "execution_count": 50,
   "metadata": {
    "ExecuteTime": {
     "end_time": "2024-03-22T07:50:33.393023Z",
     "start_time": "2024-03-22T07:50:33.385861Z"
    },
    "collapsed": false,
    "jupyter": {
     "outputs_hidden": false
    }
   },
   "outputs": [
    {
     "name": "stdout",
     "output_type": "stream",
     "text": [
      "   Engine Capacity  Drive Type  Fuel Tank Capacity  Fuel Economy  Fuel Type  \\\n",
      "0              1.2           0                42.0           4.9          0   \n",
      "1              1.2           0                42.0           4.9          0   \n",
      "2              1.4           0                45.0           6.3          0   \n",
      "3              1.6           0                50.0           6.4          0   \n",
      "4              1.5           0                48.0           5.8          0   \n",
      "\n",
      "   Horsepower  Torque  Top Speed  Acceleration  Length  Width  Height  \\\n",
      "0          76   100.0        170          14.0   4.245  1.670   1.515   \n",
      "1          76   100.0        170          14.0   4.245  1.670   1.515   \n",
      "2          75   118.0        156          16.0   3.864  1.716   1.721   \n",
      "3         102   145.0        180          11.0   4.354  1.994   1.529   \n",
      "4         112   150.0        170          10.9   4.314  1.809   1.624   \n",
      "\n",
      "   Wheelbase  Trunk Capacity    price  currency  \n",
      "0      2.550           450.0  34099.0         0  \n",
      "1      2.550           450.0  34099.0         0  \n",
      "2      2.513          2800.0  41250.0         0  \n",
      "3      2.635           510.0  44930.0         0  \n",
      "4      2.585           448.0  57787.0         0  \n"
     ]
    }
   ],
   "source": [
    "B = df.copy()\n",
    "\n",
    "categorical_columns_B = ['Transmission', 'Seating Capacity', 'Cylinders', 'Country', 'brand']\n",
    "\n",
    "B = B.drop(columns=categorical_columns_B)\n",
    "\n",
    "print(B.head())"
   ]
  },
  {
   "cell_type": "markdown",
   "metadata": {},
   "source": [
    "**Создать датасет C с категориальными признаками в виде one-hot encoding**"
   ]
  },
  {
   "cell_type": "code",
   "execution_count": 51,
   "metadata": {
    "ExecuteTime": {
     "end_time": "2024-03-22T07:50:33.408491Z",
     "start_time": "2024-03-22T07:50:33.393884Z"
    },
    "collapsed": false,
    "jupyter": {
     "outputs_hidden": false
    }
   },
   "outputs": [
    {
     "name": "stdout",
     "output_type": "stream",
     "text": [
      "  Engine Capacity Drive Type Fuel Tank Capacity Fuel Economy Fuel Type  \\\n",
      "0             1.2          0               42.0          4.9         0   \n",
      "1             1.2          0               42.0          4.9         0   \n",
      "2             1.4          0               45.0          6.3         0   \n",
      "3             1.6          0               50.0          6.4         0   \n",
      "4             1.5          0               48.0          5.8         0   \n",
      "\n",
      "  Horsepower Torque Top Speed Acceleration Length  Width Height Wheelbase  \\\n",
      "0         76  100.0       170         14.0  4.245  1.670  1.515     2.550   \n",
      "1         76  100.0       170         14.0  4.245  1.670  1.515     2.550   \n",
      "2         75  118.0       156         16.0  3.864  1.716  1.721     2.513   \n",
      "3        102  145.0       180         11.0  4.354  1.994  1.529     2.635   \n",
      "4        112  150.0       170         10.9  4.314  1.809  1.624     2.585   \n",
      "\n",
      "  Trunk Capacity currency Country Cylinders Seating Capacity Transmission  \\\n",
      "0          450.0        0   False     False            False         True   \n",
      "1          450.0        0   False     False             True        False   \n",
      "2         2800.0        0   False      True            False        False   \n",
      "3          510.0        0    True     False            False        False   \n",
      "4          448.0        0   False     False            False        False   \n",
      "\n",
      "   brand  \n",
      "0  False  \n",
      "1  False  \n",
      "2  False  \n",
      "3  False  \n",
      "4   True  \n"
     ]
    }
   ],
   "source": [
    "C = df.copy()\n",
    "\n",
    "y_C = C['price'] # Вектор целевых значений (столбец цен автомобилей)\n",
    "\n",
    "X_C1 = C.drop(columns=['price', 'Transmission', 'Seating Capacity', 'Cylinders', 'Country', 'brand'])\n",
    "\n",
    "X_C_get_dum = pd.get_dummies(['Transmission', 'Seating Capacity', 'Cylinders', 'Country', 'brand'])\n",
    "\n",
    "C = pd.concat([X_C1, X_C_get_dum], axis=1)\n",
    "C = C.astype('category')\n",
    "print(C.head())"
   ]
  },
  {
   "cell_type": "markdown",
   "metadata": {},
   "source": [
    "**Разбваем датасеты на тренировочное и тестовое множества**"
   ]
  },
  {
   "cell_type": "code",
   "execution_count": 52,
   "metadata": {
    "ExecuteTime": {
     "end_time": "2024-03-22T07:50:33.417915Z",
     "start_time": "2024-03-22T07:50:33.409225Z"
    },
    "collapsed": false,
    "jupyter": {
     "outputs_hidden": false
    }
   },
   "outputs": [],
   "source": [
    "X_train_A, X_test_A, y_train_A, y_test_A = train_test_split(A, y, test_size=0.25, random_state=0)\n",
    "\n",
    "X_train_B, X_test_B, y_train_B, y_test_B = train_test_split(B, y, test_size=0.25, random_state=0)\n",
    "\n",
    "X_train_C, X_test_C, y_train_C, y_test_C = train_test_split(C, y_C, test_size=0.25, random_state=0)"
   ]
  },
  {
   "cell_type": "markdown",
   "metadata": {
    "pycharm": {
     "name": "#%% md\n"
    }
   },
   "source": [
    "**Задания**:\n",
    "1. Обучите любую понравившуюся вам модель градиентного бустинга (CatBoost, XGBoost, LightGBM) для предсказания стоимости автомобиля на всех построенных датасетах (A, B и C)\n",
    "2. Подберите оптимальный набор параметров модели с помощью библиотеки hyperopt"
   ]
  },
  {
   "cell_type": "markdown",
   "metadata": {
    "ExecuteTime": {
     "end_time": "2024-03-22T07:50:33.420607Z",
     "start_time": "2024-03-22T07:50:33.418667Z"
    },
    "pycharm": {
     "name": "#%%\n"
    }
   },
   "source": [
    "**Обучение XGBRegressor для предсказания стоимости автомобиля на всех построенных датасетах (A, B и C)**"
   ]
  },
  {
   "cell_type": "code",
   "execution_count": 53,
   "metadata": {
    "ExecuteTime": {
     "end_time": "2024-03-22T07:50:34.432207Z",
     "start_time": "2024-03-22T07:50:33.421289Z"
    },
    "collapsed": false,
    "jupyter": {
     "outputs_hidden": false
    }
   },
   "outputs": [
    {
     "name": "stdout",
     "output_type": "stream",
     "text": [
      "Score on dataset A: 0.9700250418619975\n",
      "Score on dataset B: 0.9977233646103306\n",
      "Score on dataset C: 0.9191948523167089\n"
     ]
    }
   ],
   "source": [
    "# Обучение и оценка модели на датасете A\n",
    "model_A = XGBRegressor(enable_categorical=True)\n",
    "model_A.fit(X_train_A, y_train_A)\n",
    "score_A = model_A.score(X_test_A, y_test_A)\n",
    "print(\"Score on dataset A:\", score_A)\n",
    "\n",
    "# Обучение и оценка модели на датасете B\n",
    "model_B = XGBRegressor(enable_categorical=True)\n",
    "model_B.fit(X_train_B, y_train_B)\n",
    "score_B = model_B.score(X_test_B, y_test_B)\n",
    "print(\"Score on dataset B:\", score_B)\n",
    "\n",
    "# Обучение и оценка модели на датасете C\n",
    "model_C = XGBRegressor(enable_categorical=True)\n",
    "model_C.fit(X_train_C, y_train_C)\n",
    "score_C = model_C.score(X_test_C, y_test_C)\n",
    "print(\"Score on dataset C:\", score_C)"
   ]
  },
  {
   "cell_type": "markdown",
   "metadata": {
    "ExecuteTime": {
     "end_time": "2024-03-22T07:50:34.437785Z",
     "start_time": "2024-03-22T07:50:34.433315Z"
    },
    "collapsed": false,
    "jupyter": {
     "outputs_hidden": false
    }
   },
   "source": [
    "**Подбор оптимального набора параметров модели с помощью библиотеки hyperopt**"
   ]
  },
  {
   "cell_type": "code",
   "execution_count": 64,
   "metadata": {
    "ExecuteTime": {
     "end_time": "2024-03-22T07:52:53.465911Z",
     "start_time": "2024-03-22T07:50:34.438599Z"
    },
    "collapsed": false,
    "jupyter": {
     "outputs_hidden": false
    }
   },
   "outputs": [
    {
     "name": "stdout",
     "output_type": "stream",
     "text": [
      "100%|████████████████████████████████████████████| 1000/1000 [52:08<00:00,  3.13s/trial, best loss: -0.701000429385455]\n",
      "Best parameters: {'colsample_bytree': 0.9801044480038991, 'gamma': 2.7533654608482836, 'learning_rate': 0.010394199670235972, 'max_depth': 9, 'min_child_weight': 9.59881126178149, 'n_estimators': 2, 'subsample': 0.5112689938277549}\n"
     ]
    }
   ],
   "source": [
    "from hyperopt import hp, tpe, Trials, STATUS_OK, fmin\n",
    "from sklearn.model_selection import cross_val_score\n",
    "from xgboost import XGBRegressor\n",
    "\n",
    "def hyperopt_objective(params): # Определение функции для оптимизации\n",
    "    model = XGBRegressor(**params, enable_categorical=True, verbosity=0) # Оценка модели с помощью кросс-валидации\n",
    "    scores = cross_val_score(model, X_train_A, y_train_A, cv=5, scoring='r2') # Возвращаем результат для оптимизации (отрицательное среднее значение R^2 для максимизации)\n",
    "\n",
    "    return {'loss': -scores.mean(), 'status': STATUS_OK}\n",
    "\n",
    "space = {\n",
    "    'n_estimators': hp.choice('n_estimators', range(100, 1500, 100)),\n",
    "    'max_depth': hp.choice('max_depth', range(1, 11)),\n",
    "    'learning_rate': hp.uniform('learning_rate', 0.01, 0.5),\n",
    "    'gamma': hp.uniform('gamma', 0, 20),\n",
    "    'min_child_weight': hp.uniform('min_child_weight', 0, 10),\n",
    "    'subsample': hp.uniform('subsample', 0.5, 1),\n",
    "    'colsample_bytree': hp.uniform('colsample_bytree', 0.5, 1),\n",
    "}\n",
    "\n",
    "trials = Trials() # Запуск поиска оптимальных параметров\n",
    "best_params = fmin(hyperopt_objective, space, algo=tpe.suggest, max_evals=1000, trials=trials)\n",
    "\n",
    "print(\"Best parameters:\", best_params)\n"
   ]
  },
  {
   "cell_type": "code",
   "execution_count": 65,
   "metadata": {},
   "outputs": [
    {
     "name": "stdout",
     "output_type": "stream",
     "text": [
      "Best score on dataset А: 0.8948836191171743\n",
      "Best score on dataset B: 0.9626154554209462\n",
      "Best score on dataset C: 0.8817447295283086\n"
     ]
    }
   ],
   "source": [
    "best_n_estimators = 300\n",
    "best_max_depth = 10\n",
    "best_learning_rate = best_params['learning_rate']\n",
    "best_gamma = best_params['gamma']\n",
    "best_min_child_weight = best_params['min_child_weight']\n",
    "best_subsample = best_params['subsample']\n",
    "best_colsample_bytree = best_params['colsample_bytree']\n",
    "\n",
    "\n",
    "\n",
    "# Создание моделей с лучшими параметрами\n",
    "best_model_A = XGBRegressor(n_estimators=best_n_estimators,\n",
    "                            max_depth=best_max_depth,\n",
    "                            learning_rate=best_learning_rate,\n",
    "                            gamma=best_gamma,\n",
    "                            min_child_weight=best_min_child_weight,\n",
    "                            subsample=best_subsample,\n",
    "                            colsample_bytree=best_colsample_bytree,\n",
    "                            enable_categorical=True)\n",
    "best_model_A.fit(X_train_A, y_train_A)\n",
    "best_score_A = best_model_A.score(X_test_A, y_test_A)\n",
    "print(\"Best score on dataset А:\", best_score_A)\n",
    "\n",
    "\n",
    "best_model_B = XGBRegressor(n_estimators=best_n_estimators,\n",
    "                            max_depth=best_max_depth,\n",
    "                            learning_rate=best_learning_rate,\n",
    "                            gamma=best_gamma,\n",
    "                            min_child_weight=best_min_child_weight,\n",
    "                            subsample=best_subsample,\n",
    "                            colsample_bytree=best_colsample_bytree,\n",
    "                            enable_categorical=True)\n",
    "best_model_B.fit(X_train_B, y_train_B)\n",
    "best_score_B = best_model_B.score(X_test_B, y_test_B)\n",
    "print(\"Best score on dataset B:\", best_score_B)\n",
    "\n",
    "\n",
    "best_model_C = XGBRegressor(n_estimators=best_n_estimators,\n",
    "                            max_depth=best_max_depth,\n",
    "                            learning_rate=best_learning_rate,\n",
    "                            gamma=best_gamma,\n",
    "                            min_child_weight=best_min_child_weight,\n",
    "                            subsample=best_subsample,\n",
    "                            colsample_bytree=best_colsample_bytree,\n",
    "                            enable_categorical=True)\n",
    "\n",
    "best_model_C.fit(X_train_C, y_train_C)\n",
    "best_score_C = best_model_C.score(X_test_C, y_test_C)\n",
    "print(\"Best score on dataset C:\", best_score_C)"
   ]
  },
  {
   "cell_type": "code",
   "execution_count": null,
   "metadata": {},
   "outputs": [],
   "source": []
  }
 ],
 "metadata": {
  "kernelspec": {
   "display_name": "Python 3 (ipykernel)",
   "language": "python",
   "name": "python3"
  },
  "language_info": {
   "codemirror_mode": {
    "name": "ipython",
    "version": 3
   },
   "file_extension": ".py",
   "mimetype": "text/x-python",
   "name": "python",
   "nbconvert_exporter": "python",
   "pygments_lexer": "ipython3",
   "version": "3.12.2"
  },
  "varInspector": {
   "cols": {
    "lenName": 16,
    "lenType": 16,
    "lenVar": 40
   },
   "kernels_config": {
    "python": {
     "delete_cmd_postfix": "",
     "delete_cmd_prefix": "del ",
     "library": "var_list.py",
     "varRefreshCmd": "print(var_dic_list())"
    },
    "r": {
     "delete_cmd_postfix": ") ",
     "delete_cmd_prefix": "rm(",
     "library": "var_list.r",
     "varRefreshCmd": "cat(var_dic_list()) "
    }
   },
   "types_to_exclude": [
    "module",
    "function",
    "builtin_function_or_method",
    "instance",
    "_Feature"
   ],
   "window_display": false
  }
 },
 "nbformat": 4,
 "nbformat_minor": 4
}
