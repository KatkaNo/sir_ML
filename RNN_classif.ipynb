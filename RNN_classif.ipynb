{
 "cells": [
  {
   "cell_type": "code",
   "execution_count": 1,
   "id": "c5ec4404",
   "metadata": {},
   "outputs": [],
   "source": [
    "from __future__ import unicode_literals, print_function, division\n",
    "from io import open\n",
    "import glob\n",
    "import os\n",
    "import unicodedata\n",
    "import string\n",
    "import random\n",
    "import time\n",
    "import math\n",
    "\n",
    "import torch\n",
    "import torch.nn as nn\n",
    "\n",
    "from tqdm.notebook import tqdm\n",
    "\n",
    "import matplotlib.pyplot as plt\n",
    "import matplotlib.ticker as ticker\n",
    "%matplotlib inline"
   ]
  },
  {
   "cell_type": "code",
   "execution_count": 6,
   "id": "4441ef79",
   "metadata": {},
   "outputs": [],
   "source": [
    "def findFiles(path):\n",
    "    return glob.glob(path)"
   ]
  },
  {
   "cell_type": "code",
   "execution_count": 16,
   "id": "53d12fb5",
   "metadata": {},
   "outputs": [
    {
     "name": "stdout",
     "output_type": "stream",
     "text": [
      "['data/data/names\\\\Arabic.txt', 'data/data/names\\\\Chinese.txt', 'data/data/names\\\\Czech.txt', 'data/data/names\\\\Dutch.txt', 'data/data/names\\\\English.txt', 'data/data/names\\\\French.txt', 'data/data/names\\\\German.txt', 'data/data/names\\\\Greek.txt', 'data/data/names\\\\Irish.txt', 'data/data/names\\\\Italian.txt', 'data/data/names\\\\Japanese.txt', 'data/data/names\\\\Korean.txt', 'data/data/names\\\\Polish.txt', 'data/data/names\\\\Portuguese.txt', 'data/data/names\\\\Russian.txt', 'data/data/names\\\\Scottish.txt', 'data/data/names\\\\Spanish.txt', 'data/data/names\\\\Vietnamese.txt']\n"
     ]
    }
   ],
   "source": [
    "print(findFiles('data/data/names/*.txt'))"
   ]
  },
  {
   "cell_type": "code",
   "execution_count": 17,
   "id": "e7d524f1",
   "metadata": {},
   "outputs": [],
   "source": [
    "all_letters = string.ascii_letters + \" .,;'\"\n",
    "n_letters = len(all_letters)"
   ]
  },
  {
   "cell_type": "code",
   "execution_count": 18,
   "id": "ea5e8a8c",
   "metadata": {},
   "outputs": [],
   "source": [
    "def unicodeToAscii(s):\n",
    "    return ''.join(\n",
    "        c for c in unicodedata.normalize('NFD', s)\n",
    "        if unicodedata.category(c) != 'Mn'\n",
    "        and c in all_letters\n",
    "    )"
   ]
  },
  {
   "cell_type": "code",
   "execution_count": 19,
   "id": "47007a04",
   "metadata": {},
   "outputs": [
    {
     "name": "stdout",
     "output_type": "stream",
     "text": [
      "Slusarski\n"
     ]
    }
   ],
   "source": [
    "print(unicodeToAscii('Ślusàrski'))"
   ]
  },
  {
   "cell_type": "code",
   "execution_count": 20,
   "id": "b68f540f",
   "metadata": {},
   "outputs": [],
   "source": [
    "def readLines(filename):\n",
    "    lines = open(filename, encoding='utf-8').read().strip().split('\\n')\n",
    "    return [unicodeToAscii(line) for line in lines]"
   ]
  },
  {
   "cell_type": "code",
   "execution_count": 21,
   "id": "1b4affdb",
   "metadata": {},
   "outputs": [],
   "source": [
    "category_lines = {}\n",
    "all_categories = []"
   ]
  },
  {
   "cell_type": "code",
   "execution_count": 22,
   "id": "1f58c8ca",
   "metadata": {},
   "outputs": [],
   "source": [
    "for filename in findFiles('data/names/*.txt'):\n",
    "    category = os.path.splitext(os.path.basename(filename))[0]\n",
    "    all_categories.append(category)\n",
    "    lines = readLines(filename)\n",
    "    category_lines[category] = lines"
   ]
  },
  {
   "cell_type": "code",
   "execution_count": 23,
   "id": "4edcd3dd",
   "metadata": {},
   "outputs": [],
   "source": [
    "n_categories = len(all_categories)"
   ]
  },
  {
   "cell_type": "code",
   "execution_count": 24,
   "id": "e387d57f",
   "metadata": {},
   "outputs": [
    {
     "ename": "KeyError",
     "evalue": "'Italian'",
     "output_type": "error",
     "traceback": [
      "\u001b[1;31m---------------------------------------------------------------------------\u001b[0m",
      "\u001b[1;31mKeyError\u001b[0m                                  Traceback (most recent call last)",
      "Cell \u001b[1;32mIn[24], line 1\u001b[0m\n\u001b[1;32m----> 1\u001b[0m \u001b[38;5;28mprint\u001b[39m(\u001b[43mcategory_lines\u001b[49m\u001b[43m[\u001b[49m\u001b[38;5;124;43m'\u001b[39;49m\u001b[38;5;124;43mItalian\u001b[39;49m\u001b[38;5;124;43m'\u001b[39;49m\u001b[43m]\u001b[49m[:\u001b[38;5;241m5\u001b[39m])\n",
      "\u001b[1;31mKeyError\u001b[0m: 'Italian'"
     ]
    }
   ],
   "source": [
    "print(category_lines['Italian'][:5])"
   ]
  },
  {
   "cell_type": "code",
   "execution_count": 12,
   "id": "76303fb2",
   "metadata": {},
   "outputs": [],
   "source": [
    "category_lines_val = {}\n",
    "\n",
    "for i in range(len(all_categories)):\n",
    "    lst = category_lines[all_categories[i]]\n",
    "    train_size = int(len(lst) * 0.8)\n",
    "    random.shuffle(lst)\n",
    "    lst_train = lst[:train_size]\n",
    "    lst_val = lst[train_size:]\n",
    "    \n",
    "    category_lines[all_categories[i]] = lst_train\n",
    "    category_lines_val[all_categories[i]] = lst_val"
   ]
  },
  {
   "cell_type": "code",
   "execution_count": null,
   "id": "f721dddf",
   "metadata": {},
   "outputs": [],
   "source": []
  },
  {
   "cell_type": "code",
   "execution_count": null,
   "id": "43b28eac",
   "metadata": {},
   "outputs": [],
   "source": []
  },
  {
   "cell_type": "code",
   "execution_count": 13,
   "id": "16cc630f",
   "metadata": {},
   "outputs": [],
   "source": [
    "def letterToIndex(letter):\n",
    "    return all_letters.find(letter)"
   ]
  },
  {
   "cell_type": "code",
   "execution_count": 14,
   "id": "6554b221",
   "metadata": {},
   "outputs": [],
   "source": [
    "def letterToTensor(letter):\n",
    "    tensor = torch.zeros(1, n_letters)\n",
    "    tensor[0][letterToIndex(letter)] = 1\n",
    "    return tensor\n",
    "\n",
    "def lineToTensor(line):\n",
    "    tensor = torch.zeros(len(line), 1, n_letters)\n",
    "    for li, letter in enumerate(line):\n",
    "        tensor[li][0][letterToIndex(letter)] = 1\n",
    "    return tensor"
   ]
  },
  {
   "cell_type": "code",
   "execution_count": 15,
   "id": "0c9f1e41",
   "metadata": {},
   "outputs": [
    {
     "name": "stdout",
     "output_type": "stream",
     "text": [
      "torch.Size([5, 1, 57])\n"
     ]
    }
   ],
   "source": [
    "print(lineToTensor('Jones').size())"
   ]
  },
  {
   "cell_type": "code",
   "execution_count": null,
   "id": "042dfab9",
   "metadata": {},
   "outputs": [],
   "source": []
  },
  {
   "cell_type": "code",
   "execution_count": 16,
   "id": "cbb32bb9",
   "metadata": {},
   "outputs": [],
   "source": [
    "class RNN(nn.Module):\n",
    "    def __init__(self, input_size, hidden_size, output_size):\n",
    "        super(RNN, self).__init__()\n",
    "\n",
    "        self.hidden_size = hidden_size\n",
    "\n",
    "        self.i2h = nn.Linear(input_size + hidden_size, hidden_size)\n",
    "        self.i2o = nn.Linear(input_size + hidden_size, output_size)\n",
    "        self.softmax = nn.LogSoftmax(dim=1)\n",
    "\n",
    "    def forward(self, input, hidden):\n",
    "        combined = torch.cat((input, hidden), 1)\n",
    "        hidden = self.i2h(combined)\n",
    "        output = self.i2o(combined)\n",
    "        output = self.softmax(output)\n",
    "        return output, hidden\n",
    "\n",
    "    def initHidden(self):\n",
    "        return torch.zeros(1, self.hidden_size)\n",
    "\n",
    "n_hidden = 128\n",
    "rnn = RNN(n_letters, n_hidden, n_categories)"
   ]
  },
  {
   "cell_type": "code",
   "execution_count": 17,
   "id": "b50d61d8",
   "metadata": {},
   "outputs": [],
   "source": [
    "inp = letterToTensor('A')\n",
    "hidden = torch.zeros(1, n_hidden)\n",
    "\n",
    "with torch.no_grad():\n",
    "    output, next_hidden = rnn(inp, hidden)"
   ]
  },
  {
   "cell_type": "code",
   "execution_count": 18,
   "id": "cec95609",
   "metadata": {},
   "outputs": [
    {
     "data": {
      "text/plain": [
       "(torch.Size([1, 18]), torch.Size([1, 128]))"
      ]
     },
     "execution_count": 18,
     "metadata": {},
     "output_type": "execute_result"
    }
   ],
   "source": [
    "output.shape, next_hidden.shape"
   ]
  },
  {
   "cell_type": "code",
   "execution_count": 19,
   "id": "746ee89c",
   "metadata": {},
   "outputs": [],
   "source": [
    "inp = lineToTensor('Albert')\n",
    "hidden = torch.zeros(1, n_hidden)\n",
    "\n",
    "with torch.no_grad():\n",
    "    output, next_hidden = rnn(inp[0], hidden)"
   ]
  },
  {
   "cell_type": "code",
   "execution_count": 20,
   "id": "22d7fbda",
   "metadata": {},
   "outputs": [
    {
     "name": "stdout",
     "output_type": "stream",
     "text": [
      "('Italian', 16)\n"
     ]
    }
   ],
   "source": [
    "def categoryFromOutput(output):\n",
    "    top_n, top_i = output.topk(1)\n",
    "    category_i = top_i[0].item()\n",
    "    return all_categories[category_i], category_i\n",
    "\n",
    "print(categoryFromOutput(output))"
   ]
  },
  {
   "cell_type": "code",
   "execution_count": 21,
   "id": "6cd4b436",
   "metadata": {},
   "outputs": [],
   "source": [
    "def randomChoice(l):\n",
    "    return l[random.randint(0, len(l) - 1)]\n",
    "\n",
    "def randomTrainingExample():\n",
    "    category = randomChoice(all_categories)\n",
    "    line = randomChoice(category_lines[category])\n",
    "    category_tensor = torch.tensor([all_categories.index(category)], dtype=torch.long)\n",
    "    line_tensor = lineToTensor(line)\n",
    "    return category, line, category_tensor, line_tensor\n",
    "\n",
    "def randomValidationExample():\n",
    "    category = randomChoice(all_categories)\n",
    "    line = randomChoice(category_lines_val[category])\n",
    "    category_tensor = torch.tensor([all_categories.index(category)], dtype=torch.long)\n",
    "    line_tensor = lineToTensor(line)\n",
    "    return category, line, category_tensor, line_tensor"
   ]
  },
  {
   "cell_type": "code",
   "execution_count": 22,
   "id": "cef268fe",
   "metadata": {},
   "outputs": [
    {
     "name": "stdout",
     "output_type": "stream",
     "text": [
      "category = Spanish / line = Ibanez\n",
      "category = Scottish / line = Thomson\n",
      "category = Russian / line = Ageenko\n",
      "category = Polish / line = Krol\n",
      "category = Chinese / line = Lim\n",
      "category = Polish / line = Sokolsky\n",
      "category = Italian / line = Ronchi\n",
      "category = Polish / line = Kaminski\n",
      "category = French / line = Sarkozi\n",
      "category = Chinese / line = Rong\n"
     ]
    }
   ],
   "source": [
    "for i in range(10):\n",
    "    category, line, category_tensor, line_tensor = randomTrainingExample()\n",
    "    print('category =', category, '/ line =', line)"
   ]
  },
  {
   "cell_type": "code",
   "execution_count": 23,
   "id": "49978d94",
   "metadata": {},
   "outputs": [],
   "source": [
    "criterion = nn.NLLLoss()"
   ]
  },
  {
   "cell_type": "code",
   "execution_count": 24,
   "id": "f09daf27",
   "metadata": {},
   "outputs": [],
   "source": [
    "optimizer = torch.optim.SGD(rnn.parameters(), lr=5e-3)\n",
    "\n",
    "def train(category_tensor, line_tensor):\n",
    "    hidden = rnn.initHidden()\n",
    "\n",
    "    optimizer.zero_grad()\n",
    "\n",
    "    for i in range(line_tensor.shape[0]):\n",
    "        output, hidden = rnn(line_tensor[i], hidden)\n",
    "\n",
    "    loss = criterion(output, category_tensor)\n",
    "    loss.backward()\n",
    "\n",
    "    optimizer.step()\n",
    "\n",
    "    return output, loss.item()\n",
    "\n",
    "def evaluate(line_tensor):\n",
    "    with torch.no_grad():\n",
    "        hidden = rnn.initHidden()\n",
    "\n",
    "        for i in range(line_tensor.size()[0]):\n",
    "            output, hidden = rnn(line_tensor[i], hidden)\n",
    "\n",
    "    return output"
   ]
  },
  {
   "cell_type": "code",
   "execution_count": 25,
   "id": "e5d260f8",
   "metadata": {},
   "outputs": [],
   "source": [
    "n_iters = 500_000\n",
    "print_every = 5000\n",
    "val_size = 3000"
   ]
  },
  {
   "cell_type": "code",
   "execution_count": 26,
   "id": "58c487e7",
   "metadata": {},
   "outputs": [
    {
     "data": {
      "application/vnd.jupyter.widget-view+json": {
       "model_id": "47ad6d08b912417586eee17d49f8fb24",
       "version_major": 2,
       "version_minor": 0
      },
      "text/plain": [
       "  0%|          | 0/500000 [00:00<?, ?it/s]"
      ]
     },
     "metadata": {},
     "output_type": "display_data"
    },
    {
     "name": "stdout",
     "output_type": "stream",
     "text": [
      "5000 1% (0m 4s) 13738.738703, 0.2760 Fattore / French ✗ (Italian)\n",
      "10000 2% (0m 8s) 11571.993194, 0.2600 Sauvageon / Dutch ✗ (French)\n",
      "15000 3% (0m 13s) 10410.892354, 0.3087 Ooka / Japanese ✓\n",
      "20000 4% (0m 17s) 9606.127254, 0.3750 Southern / Dutch ✗ (English)\n",
      "25000 5% (0m 21s) 8947.190839, 0.4050 Chaadaev / Russian ✓\n",
      "30000 6% (0m 25s) 8524.050269, 0.3950 Yeatman / Irish ✗ (English)\n",
      "35000 7% (0m 30s) 8213.615800, 0.4127 Handzlik / Russian ✗ (Czech)\n",
      "40000 8% (0m 34s) 7822.176346, 0.4203 Acconci / Italian ✓\n",
      "45000 9% (0m 38s) 7388.272696, 0.4380 Lynsmeier / French ✗ (Czech)\n",
      "50000 10% (0m 43s) 7369.104327, 0.4447 Rhys / Korean ✗ (Irish)\n",
      "55000 11% (0m 47s) 7066.060282, 0.4113 Millar / Scottish ✓\n",
      "60000 12% (0m 51s) 7000.859408, 0.4533 Rey / English ✗ (Spanish)\n",
      "65000 13% (0m 56s) 6906.014759, 0.4313 Phan / Irish ✗ (Vietnamese)\n",
      "70000 14% (1m 0s) 6778.263427, 0.4507 Segher / German ✗ (Dutch)\n",
      "75000 15% (1m 4s) 6645.339438, 0.4537 Akram / Arabic ✗ (English)\n",
      "80000 16% (1m 9s) 6462.847527, 0.4277 Rey / English ✗ (Spanish)\n",
      "85000 17% (1m 13s) 6293.532730, 0.4593 Kedzierski / Polish ✓\n",
      "90000 18% (1m 17s) 6293.620102, 0.4627 Zhulyabin / Russian ✓\n",
      "95000 19% (1m 22s) 6203.613216, 0.4837 Bazzi / Polish ✗ (Arabic)\n",
      "100000 20% (1m 26s) 6150.961647, 0.4823 Murchadh / Irish ✓\n",
      "105000 21% (1m 30s) 5977.776879, 0.4490 Dalen / Dutch ✓\n",
      "110000 22% (1m 35s) 6088.016465, 0.4570 Farber / German ✓\n",
      "115000 23% (1m 39s) 6182.639355, 0.4653 Basurto / Portuguese ✗ (Italian)\n",
      "120000 24% (1m 43s) 5960.084730, 0.4790 Mclain / Scottish ✗ (Irish)\n",
      "125000 25% (1m 47s) 5943.716776, 0.4640 Ngai / Italian ✗ (Korean)\n",
      "130000 26% (1m 52s) 5998.905036, 0.4483 Samaha / Japanese ✗ (Arabic)\n",
      "135000 27% (1m 56s) 5878.790285, 0.4777 Ebeling / English ✓\n",
      "140000 28% (2m 0s) 5764.326098, 0.4553 Williamson / Scottish ✓\n",
      "145000 28% (2m 5s) 5658.968876, 0.4493 Hulme / Japanese ✗ (English)\n",
      "150000 30% (2m 9s) 5828.778990, 0.4817 Todaro / Spanish ✗ (Italian)\n",
      "155000 31% (2m 13s) 5806.350416, 0.4803 Orellana / Spanish ✓\n",
      "160000 32% (2m 18s) 5804.688771, 0.4773 Butcher / German ✗ (English)\n",
      "165000 33% (2m 22s) 5661.030459, 0.4653 Lau / Vietnamese ✗ (Chinese)\n",
      "170000 34% (2m 26s) 5649.224295, 0.4493 Cui / Chinese ✓\n",
      "175000 35% (2m 31s) 5483.733836, 0.4763 Magalhaes / Vietnamese ✗ (Portuguese)\n",
      "180000 36% (2m 35s) 5632.011790, 0.4587 Raitsin / Russian ✓\n",
      "185000 37% (2m 39s) 5758.384038, 0.4737 Redfern / Scottish ✗ (English)\n",
      "190000 38% (2m 43s) 5492.953147, 0.4547 Rodriguez / Portuguese ✗ (Spanish)\n",
      "195000 39% (2m 48s) 5525.622648, 0.4397 Ramires / Dutch ✗ (Portuguese)\n",
      "200000 40% (2m 52s) 5543.091096, 0.4603 Bouloukos / Greek ✓\n",
      "205000 41% (2m 56s) 5515.934538, 0.4630 Tsutaya / Japanese ✓\n",
      "210000 42% (3m 1s) 5482.071741, 0.4610 Stephens / Dutch ✗ (English)\n",
      "215000 43% (3m 5s) 5417.659790, 0.4703 Likhobabin / Russian ✓\n",
      "220000 44% (3m 9s) 5350.030836, 0.4723 Norwood / English ✓\n",
      "225000 45% (3m 14s) 5533.647805, 0.4873 Ribeiro / Italian ✗ (Portuguese)\n",
      "230000 46% (3m 18s) 5473.357785, 0.4817 Kakutama / Japanese ✓\n",
      "235000 47% (3m 22s) 5409.683203, 0.4673 Markwardt / Japanese ✗ (German)\n",
      "240000 48% (3m 26s) 5395.760782, 0.4750 Eoin / Irish ✓\n",
      "245000 49% (3m 31s) 5525.606460, 0.4910 Orellana / Irish ✗ (Spanish)\n",
      "250000 50% (3m 35s) 5426.648539, 0.4607 Vargas / Arabic ✗ (Portuguese)\n",
      "255000 51% (3m 39s) 5498.737777, 0.4440 Mateu / French ✗ (Spanish)\n",
      "260000 52% (3m 44s) 5402.953630, 0.4853 Vargas / Arabic ✗ (Portuguese)\n",
      "265000 53% (3m 48s) 5438.762781, 0.4950 Khoury / Arabic ✓\n",
      "270000 54% (3m 52s) 5409.556902, 0.4547 Bengochea / Czech ✗ (Spanish)\n",
      "275000 55% (3m 56s) 5338.315367, 0.4633 Tuma / Japanese ✗ (Arabic)\n",
      "280000 56% (4m 1s) 5362.789911, 0.4783 Damhan / Arabic ✗ (Irish)\n",
      "285000 56% (4m 5s) 5368.000057, 0.4853 Rosales / Greek ✗ (Spanish)\n",
      "290000 57% (4m 9s) 5426.242473, 0.4597 Opizka / Polish ✗ (Czech)\n",
      "295000 59% (4m 14s) 5321.331643, 0.4853 Awad / Arabic ✓\n",
      "300000 60% (4m 18s) 5335.676368, 0.4947 Quinn / Vietnamese ✗ (Irish)\n",
      "305000 61% (4m 22s) 5340.128997, 0.4770 Redman / Dutch ✗ (English)\n",
      "310000 62% (4m 27s) 5326.042403, 0.4807 Karnoupakis / Greek ✓\n",
      "315000 63% (4m 31s) 5289.547441, 0.4813 Macleod / French ✗ (Scottish)\n",
      "320000 64% (4m 35s) 5293.974740, 0.4637 Bokhoven / French ✗ (Dutch)\n",
      "325000 65% (4m 40s) 5355.930427, 0.4797 Katzevman / Russian ✓\n",
      "330000 66% (4m 44s) 5179.704992, 0.4717 Vlasek / Czech ✓\n",
      "335000 67% (4m 48s) 5351.364690, 0.4890 You / Korean ✓\n",
      "340000 68% (4m 52s) 5240.772064, 0.4457 Sokal / Scottish ✗ (Polish)\n",
      "345000 69% (4m 57s) 5167.408584, 0.4997 Qureshi / Arabic ✓\n",
      "350000 70% (5m 1s) 5107.101098, 0.4663 Shriver / German ✓\n",
      "355000 71% (5m 5s) 5461.840748, 0.4580 Coghlan / Irish ✓\n",
      "360000 72% (5m 10s) 5197.240505, 0.4933 Pavlyuchenko / Russian ✓\n",
      "365000 73% (5m 14s) 5262.024798, 0.4597 Acqua / Portuguese ✗ (Italian)\n",
      "370000 74% (5m 18s) 5202.078923, 0.5203 Ribeiro / Spanish ✗ (Portuguese)\n",
      "375000 75% (5m 23s) 5100.927138, 0.4737 Szewc / Polish ✓\n",
      "380000 76% (5m 27s) 5154.162401, 0.4693 Pho / Korean ✗ (Vietnamese)\n",
      "385000 77% (5m 31s) 5326.444685, 0.4603 Piontek / Polish ✓\n",
      "390000 78% (5m 36s) 5257.357099, 0.4590 Hassel / German ✗ (Dutch)\n",
      "395000 79% (5m 40s) 5124.827363, 0.4683 Zhegin / Russian ✓\n",
      "400000 80% (5m 44s) 5216.054972, 0.4980 Fay / Chinese ✗ (French)\n",
      "405000 81% (5m 49s) 5258.859135, 0.5173 Kulhanek / Czech ✓\n",
      "410000 82% (5m 53s) 5191.720010, 0.5000 Toma / Japanese ✗ (Arabic)\n",
      "415000 83% (5m 57s) 5146.717672, 0.4537 Zhivaev / Russian ✓\n",
      "420000 84% (6m 2s) 5223.085449, 0.4550 Whyte / Scottish ✓\n",
      "425000 85% (6m 6s) 5254.156115, 0.4833 Pedrotti / Italian ✓\n",
      "430000 86% (6m 10s) 5365.296266, 0.4860 Niemczyk / Polish ✓\n",
      "435000 87% (6m 15s) 5255.519947, 0.4800 Okakura / Japanese ✓\n",
      "440000 88% (6m 19s) 5184.741665, 0.4713 Jung  / Korean ✓\n",
      "445000 89% (6m 23s) 5219.305144, 0.4693 Mai / Chinese ✗ (Vietnamese)\n",
      "450000 90% (6m 28s) 5195.798691, 0.4660 Manco / Italian ✓\n",
      "455000 91% (6m 32s) 5240.971482, 0.4760 Fojtikova / Czech ✓\n",
      "460000 92% (6m 36s) 5252.440533, 0.4813 Mifsud / Arabic ✓\n",
      "465000 93% (6m 41s) 5148.012168, 0.4880 Isa / Arabic ✓\n",
      "470000 94% (6m 45s) 5152.188348, 0.4633 Voclain / French ✓\n",
      "475000 95% (6m 50s) 5188.328424, 0.4740 Hout / German ✗ (Dutch)\n",
      "480000 96% (6m 54s) 5231.030659, 0.4477 Hauer / German ✓\n",
      "485000 97% (6m 58s) 5126.959239, 0.5083 Piontek / Polish ✓\n",
      "490000 98% (7m 3s) 5256.518323, 0.4847 Astbury / French ✗ (English)\n",
      "495000 99% (7m 7s) 5100.406731, 0.5080 Pinder / German ✗ (English)\n",
      "500000 100% (7m 11s) 5121.257196, 0.4823 She / Korean ✗ (Chinese)\n"
     ]
    }
   ],
   "source": [
    "current_loss = 0\n",
    "all_losses = []\n",
    "all_precisions = []\n",
    "best_value = 0\n",
    "best_model = None\n",
    "\n",
    "def timeSince(since):\n",
    "    now = time.time()\n",
    "    s = now - since\n",
    "    m = math.floor(s / 60)\n",
    "    s -= m * 60\n",
    "    return '%dm %ds' % (m, s)\n",
    "\n",
    "start = time.time()\n",
    "\n",
    "for iter in tqdm(range(1, n_iters + 1)):\n",
    "    category, line, category_tensor, line_tensor = randomTrainingExample()\n",
    "    output, loss = train(category_tensor, line_tensor)\n",
    "    current_loss += loss\n",
    "\n",
    "    if iter % print_every == 0:\n",
    "        with torch.no_grad():\n",
    "            num_correct = 0\n",
    "            for _ in range(val_size):\n",
    "                category, line, category_tensor, line_tensor = randomValidationExample()\n",
    "                output = evaluate(line_tensor)\n",
    "                guess, guess_i = categoryFromOutput(output)\n",
    "                category_i = all_categories.index(category)\n",
    "                num_correct += (guess_i == category_i)\n",
    "            prec = num_correct / val_size\n",
    "            all_precisions.append(prec)\n",
    "            \n",
    "            if prec > best_value:\n",
    "                best_value = prec\n",
    "                best_model = rnn.state_dict().copy()\n",
    "            \n",
    "        all_losses.append(current_loss / print_every)\n",
    "        \n",
    "        guess, guess_i = categoryFromOutput(output)\n",
    "        correct = '✓' if guess == category else '✗ (%s)' % category\n",
    "        print('%d %d%% (%s) %f, %.4f %s / %s %s' % (iter, iter / n_iters * 100, timeSince(start), current_loss, prec, line, guess, correct))\n",
    "        current_loss = 0"
   ]
  },
  {
   "cell_type": "code",
   "execution_count": 27,
   "id": "00a2f99c",
   "metadata": {},
   "outputs": [
    {
     "data": {
      "text/plain": [
       "[<matplotlib.lines.Line2D at 0x7f536e7b2f70>]"
      ]
     },
     "execution_count": 27,
     "metadata": {},
     "output_type": "execute_result"
    },
    {
     "data": {
      "image/png": "[encoded data removed]",
      "text/plain": [
       "<Figure size 1600x500 with 2 Axes>"
      ]
     },
     "metadata": {},
     "output_type": "display_data"
    }
   ],
   "source": [
    "plt.figure(figsize=(16, 5))\n",
    "\n",
    "plt.subplot(1, 2, 1)\n",
    "plt.plot(all_losses)\n",
    "\n",
    "plt.subplot(1, 2, 2)\n",
    "plt.plot(all_precisions)"
   ]
  },
  {
   "cell_type": "code",
   "execution_count": 28,
   "id": "7cda42d9",
   "metadata": {},
   "outputs": [
    {
     "data": {
      "text/plain": [
       "<All keys matched successfully>"
      ]
     },
     "execution_count": 28,
     "metadata": {},
     "output_type": "execute_result"
    }
   ],
   "source": [
    "rnn.load_state_dict(best_model)"
   ]
  },
  {
   "cell_type": "code",
   "execution_count": 29,
   "id": "7ea45d69",
   "metadata": {},
   "outputs": [
    {
     "name": "stderr",
     "output_type": "stream",
     "text": [
      "/tmp/ipykernel_90184/3249864722.py:19: UserWarning: FixedFormatter should only be used together with FixedLocator\n",
      "  ax.set_xticklabels([''] + all_categories, rotation=90)\n",
      "/tmp/ipykernel_90184/3249864722.py:20: UserWarning: FixedFormatter should only be used together with FixedLocator\n",
      "  ax.set_yticklabels([''] + all_categories)\n"
     ]
    },
    {
     "data": {
      "image/png": "[encoded data removed]",
      "text/plain": [
       "<Figure size 640x480 with 2 Axes>"
      ]
     },
     "metadata": {},
     "output_type": "display_data"
    }
   ],
   "source": [
    "confusion = torch.zeros(n_categories, n_categories)\n",
    "n_confusion = 10000\n",
    "\n",
    "for i in range(n_confusion):\n",
    "    category, line, category_tensor, line_tensor = randomValidationExample()\n",
    "    output = evaluate(line_tensor)\n",
    "    guess, guess_i = categoryFromOutput(output)\n",
    "    category_i = all_categories.index(category)\n",
    "    confusion[category_i][guess_i] += 1\n",
    "\n",
    "for i in range(n_categories):\n",
    "    confusion[i] = confusion[i] / confusion[i].sum()\n",
    "\n",
    "fig = plt.figure()\n",
    "ax = fig.add_subplot(111)\n",
    "cax = ax.matshow(confusion.numpy())\n",
    "fig.colorbar(cax)\n",
    "\n",
    "ax.set_xticklabels([''] + all_categories, rotation=90)\n",
    "ax.set_yticklabels([''] + all_categories)\n",
    "\n",
    "ax.xaxis.set_major_locator(ticker.MultipleLocator(1))\n",
    "ax.yaxis.set_major_locator(ticker.MultipleLocator(1))"
   ]
  },
  {
   "cell_type": "code",
   "execution_count": 30,
   "id": "4b0d7e8c",
   "metadata": {},
   "outputs": [],
   "source": [
    "def predict(input_line, n_predictions=3):\n",
    "    print('> %s' % input_line)\n",
    "    with torch.no_grad():\n",
    "        output = evaluate(lineToTensor(input_line))\n",
    "\n",
    "        topv, topi = output.topk(n_predictions, 1, True)\n",
    "        predictions = []\n",
    "\n",
    "        for i in range(n_predictions):\n",
    "            value = topv[0][i].item()\n",
    "            category_index = topi[0][i].item()\n",
    "            print('(%.2f) %s' % (value, all_categories[category_index]))\n",
    "            predictions.append([value, all_categories[category_index]])"
   ]
  },
  {
   "cell_type": "code",
   "execution_count": 31,
   "id": "a26b9085",
   "metadata": {},
   "outputs": [
    {
     "name": "stdout",
     "output_type": "stream",
     "text": [
      "> Dovesky\n",
      "(-0.37) Czech\n",
      "(-1.26) Russian\n",
      "(-4.26) English\n"
     ]
    }
   ],
   "source": [
    "predict('Dovesky')"
   ]
  },
  {
   "cell_type": "code",
   "execution_count": 32,
   "id": "82263c30",
   "metadata": {},
   "outputs": [
    {
     "name": "stdout",
     "output_type": "stream",
     "text": [
      "> Jackson\n",
      "(-0.96) Scottish\n",
      "(-1.26) French\n",
      "(-1.52) English\n"
     ]
    }
   ],
   "source": [
    "predict('Jackson')"
   ]
  },
  {
   "cell_type": "code",
   "execution_count": 33,
   "id": "c469ef57",
   "metadata": {},
   "outputs": [
    {
     "name": "stdout",
     "output_type": "stream",
     "text": [
      "> Satoshi\n",
      "(-0.69) Japanese\n",
      "(-1.40) Arabic\n",
      "(-1.98) Italian\n"
     ]
    }
   ],
   "source": [
    "predict('Satoshi')"
   ]
  },
  {
   "cell_type": "code",
   "execution_count": null,
   "id": "49785817",
   "metadata": {},
   "outputs": [],
   "source": []
  }
 ],
 "metadata": {
  "kernelspec": {
   "display_name": "Python 3 (ipykernel)",
   "language": "python",
   "name": "python3"
  },
  "language_info": {
   "codemirror_mode": {
    "name": "ipython",
    "version": 3
   },
   "file_extension": ".py",
   "mimetype": "text/x-python",
   "name": "python",
   "nbconvert_exporter": "python",
   "pygments_lexer": "ipython3",
   "version": "3.12.2"
  },
  "varInspector": {
   "cols": {
    "lenName": 16,
    "lenType": 16,
    "lenVar": 40
   },
   "kernels_config": {
    "python": {
     "delete_cmd_postfix": "",
     "delete_cmd_prefix": "del ",
     "library": "var_list.py",
     "varRefreshCmd": "print(var_dic_list())"
    },
    "r": {
     "delete_cmd_postfix": ") ",
     "delete_cmd_prefix": "rm(",
     "library": "var_list.r",
     "varRefreshCmd": "cat(var_dic_list()) "
    }
   },
   "types_to_exclude": [
    "module",
    "function",
    "builtin_function_or_method",
    "instance",
    "_Feature"
   ],
   "window_display": false
  }
 },
 "nbformat": 4,
 "nbformat_minor": 5
}
