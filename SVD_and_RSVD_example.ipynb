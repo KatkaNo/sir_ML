{
 "cells": [
  {
   "cell_type": "markdown",
   "id": "a6eec281",
   "metadata": {},
   "source": [
    "# Example on SVD and randomized SVD\n",
    "\n",
    "For any matrix the best rank-r approximation in terms of spectral and Frobenius norm can be found via the classical singular value decomposition (SVD) as \n",
    "\n",
    "$$A = U_r \\Sigma_r V_r, A \\in \\mathbb{R}^{M \\times N}, U_r \\in \\mathbb{R}^{M \\times r}, V_r \\in \\mathbb{R}^{N \\times r}, \\Sigma_r \\in \\mathbb{R}^{r \\times r},$$\n",
    "where $U_r$ has orthonormal columns, $V_r$ has orthonormal rows and $\\Sigma$ is a diagonal matrix with real non-increasing values at the diagonal known as singular values.\n",
    "\n",
    "The SVD is basic tool useful for \n",
    "1. Black/White image compression\n",
    "2. Principal-component analysis\n",
    "3. Solving the linear least squares problem and allow to find the pseudoinverse matrix.\n",
    "\n",
    "Construction of the full SVD requires $O\\left(\\min( M \\cdot N^2,~  N \\cdot M^2) \\right)$ operations. Its truncation by rank allows us to find the skeleton decomposition with R separable summands for any matrix:\n",
    "$$A(i,j) = \\sum_{\\alpha=1}^R u_{\\alpha}(i) \\sigma_{\\alpha} v_{\\alpha}(j).$$\n",
    "Number of non-zero singular values $\\sigma_{\\alpha}>0$ is exactly the rank of the studied matrix.\n",
    "\n",
    "# Idea about randomized SVD\n",
    "\n",
    "Assume $M < N$ and $R \\ll min(M, N)$ and set constant \\textit{oversampling} parameter $p$. Randomized SVD can be constructed if one needs to obtain a quasi-optimal rank-R approximation with rank $R \\ll M, R << N$. It can be found via the preliminary multiplication of the original matrix by randomly generated matrix $\\Omega \\in \\mathbb{R}^{(R+p) \\times M}$ and obtain a skectch matrix $B$ as following\n",
    "$$B = (A \\cdot \\Omega) \\in \\mathbb{R}^{M \\times (R+p)}.$$\n",
    "The cost of such matrix multiplication is $O(M N (R+p))$ operations. As soon as $B$ is a matrix with much less number of columns then its thin-QR (via Gram-Shchmidt orthogonalization process for its columns)  can be computed within $O((R+p)^2 M)$ operations: \n",
    "$$B = Q R.$$\n",
    "\n",
    "After it, one should note that generated matrix consists from orthonormal columns $Q \\in \\mathbb{R}^{M \\times (R+p)}$ is $Q^{\\top}Q \\approx I_{R+p}$. On the other hand matrix $Q \\cdot Q^{\\top}$ is a good projection operator (this fact is not easy and requires some theory around Johnson-Lindenstrauss lemma).\n",
    "After it, we may see \n",
    "$$A_{R} = Q (Q^{\\top} A) \\approx Q U_0 \\Sigma_{0} V_0$$\n",
    "Hence, we reconstruct the approximation of the factors for the truncated SVD for matrix $A$ as rank-R truncation of:\n",
    "$$U_{R} \\approx Q U_0, \\Sigma_{R} \\approx \\Sigma_0, V_{R} \\approx V_0 .$$\n",
    "Additional matrix multiplication $Q^{\\top} U_0$ requires another $O(R^2 M)$ operations. All in all, calculation of the truncated SVD with use of random sketch matrices takes $O(MN(R+p) + M(R+p)^2 + N(R+p)^2)$ operations. In case of $R \\ll M$, $R \\ll N$ is may lead to significant reduction of the computational time.\n",
    "\n",
    "The theory, which allows one to check the additional error coming from the random structure of the sketch matrix and also coming from the loss of the exactness in the utilized equations is rather hard and we do not include it into our course.\n",
    "\n",
    "Choice of oversampling parameter could be adjusted via the accuracy estimates for such a version of the quasioptimal approximations (see e.g. the review by Nakatsukasa). In pratcice, it is often set $p=8$.\n",
    "\n",
    "##### Literature:\n",
    "1. Tyrtyshnikov, E. E. (1997). A brief introduction to numerical analysis. Springer Science & Business Media.\n",
    "2. Tyrtyshnikov E. E. (2007) Metody chislennogo analiza, Akademiya (book in Russian)\n",
    "3. Halko, N., Martinsson, P.-G., Tropp, J. A. (2011). Finding structure with randomness: Probabilistic algorithms for constructing approximate matrix decompositions. SIAM Review, 53(2), 217–288.\n",
    "4. Nakatsukasa, Y. (2020). Fast and stable randomized low-rank matrix approximation. arXiv preprint arXiv:2009.11392.\n",
    "5. Nice webpage: https://gregorygundersen.com/blog/2019/01/17/randomized-svd/"
   ]
  },
  {
   "cell_type": "code",
   "execution_count": 3,
   "id": "b306162a",
   "metadata": {},
   "outputs": [
    {
     "name": "stderr",
     "output_type": "stream",
     "text": [
      "<frozen importlib._bootstrap>:228: RuntimeWarning: scipy._lib.messagestream.MessageStream size changed, may indicate binary incompatibility. Expected 56 from C header, got 64 from PyObject\n"
     ]
    }
   ],
   "source": [
    "import numpy as np\n",
    "from sklearn.utils.extmath import randomized_svd as rsvd\n",
    "from matplotlib import pyplot as plt\n",
    "import time"
   ]
  },
  {
   "cell_type": "code",
   "execution_count": 4,
   "id": "ed68efa0",
   "metadata": {},
   "outputs": [],
   "source": [
    "def A(i, j):\n",
    "    # setup some function-generated matrix\n",
    "    return 1.0/(i+j+1)"
   ]
  },
  {
   "cell_type": "code",
   "execution_count": 5,
   "id": "2361d3ed",
   "metadata": {},
   "outputs": [],
   "source": [
    "M = 1500 # number of rows\n",
    "N = 1024 # number of columns\n",
    "x = np.linspace(1,N,N) # grid for drawings\n",
    "r = 20 # target rank\n",
    "Ma = np.zeros([M, N])\n",
    "# fill the matrix Ma\n",
    "Ma=np.fromfunction(A, [M, N])\n",
    "#for i in range(M):\n",
    "#    for j in range(N):\n",
    "#        Ma[i,j] = A(i,j)"
   ]
  },
  {
   "cell_type": "code",
   "execution_count": 6,
   "id": "f3335f74",
   "metadata": {},
   "outputs": [
    {
     "name": "stdout",
     "output_type": "stream",
     "text": [
      "Classical  1.1592128276824951  sec.\n"
     ]
    }
   ],
   "source": [
    "#%%timeit\n",
    "# Estimate the time , does not save the data\n",
    "start = time.time()\n",
    "U, s, V = np.linalg.svd(Ma)\n",
    "print(\"Classical \", time.time() - start, \" sec.\")"
   ]
  },
  {
   "cell_type": "code",
   "execution_count": 7,
   "id": "4b3d5efb",
   "metadata": {},
   "outputs": [],
   "source": [
    "# Save the data\n",
    "U, s, V = np.linalg.svd(Ma)"
   ]
  },
  {
   "cell_type": "code",
   "execution_count": 9,
   "id": "29989379",
   "metadata": {},
   "outputs": [
    {
     "name": "stdout",
     "output_type": "stream",
     "text": [
      "9.391031627509187e-11\n",
      "9.391026670253991e-11\n"
     ]
    }
   ],
   "source": [
    "## Truncation of SVD\n",
    "Ut = U[:,:r] # m \\times r\n",
    "st = s[:r] # r \n",
    "Vt = V[:r,:] # # r \\times n\n",
    "print(np.linalg.norm(Ma - Ut @ np.diag(st) @ Vt))\n",
    "print(np.linalg.norm(s[r:]))"
   ]
  },
  {
   "cell_type": "code",
   "execution_count": 10,
   "id": "b2291b75",
   "metadata": {},
   "outputs": [
    {
     "name": "stdout",
     "output_type": "stream",
     "text": [
      "Randomized  0.13252687454223633  sec.\n"
     ]
    }
   ],
   "source": [
    "#%%timeit\n",
    "# Estimate the time\n",
    "start = time.time()\n",
    "Ur, sr, Vr = rsvd(Ma, n_components=r, random_state=np.random.randint(1))\n",
    "print(\"Randomized \", time.time() - start, \" sec.\")"
   ]
  },
  {
   "cell_type": "code",
   "execution_count": 11,
   "id": "ce999590",
   "metadata": {},
   "outputs": [],
   "source": [
    "# Save the data\n",
    "Ur, sr, Vr = rsvd(Ma, n_components=r, random_state=np.random.randint(1))"
   ]
  },
  {
   "cell_type": "code",
   "execution_count": 12,
   "id": "9e20e698",
   "metadata": {},
   "outputs": [
    {
     "name": "stdout",
     "output_type": "stream",
     "text": [
      "Relative error of sigmas =  6.23246356909429e-16\n",
      "Classical relative approximation error =  3.322658295342276e-11\n",
      "Randomized straight-forward error =  3.3226606842458726e-11\n",
      "Initial storage 1536000  memory cells\n",
      "Compressed storage 50500  memory cells\n"
     ]
    },
    {
     "data": {
      "image/png": "[encoded data removed]",
      "text/plain": [
       "<Figure size 432x288 with 1 Axes>"
      ]
     },
     "metadata": {
      "needs_background": "light"
     },
     "output_type": "display_data"
    }
   ],
   "source": [
    "# Check the error for singular values\n",
    "plt.title(\"Comparison of classical and randomized\")\n",
    "plt.plot(x, s/s[0], 'bo', markersize=10, label='classical')\n",
    "plt.plot(x[:r], sr/s[0], 'ro', markersize=5, label='randomized')\n",
    "plt.ylabel('Singular values')\n",
    "plt.xlabel('k')\n",
    "plt.xlim(1,r)\n",
    "plt.legend()\n",
    "plt.yscale('log')\n",
    "print(\"Relative error of sigmas = \", np.linalg.norm(s[:r] - sr) / np.linalg.norm(s[:r]))\n",
    "print(\"Classical relative approximation error = \", np.linalg.norm(s[r:])/np.linalg.norm(s))\n",
    "print(\"Randomized straight-forward error = \", np.linalg.norm(Ma - (Ur @ np.diag(sr) @ Vr)) /\n",
    "                                                                              np.linalg.norm(s))\n",
    "print(\"Initial storage\", M*N, \" memory cells\")\n",
    "print(\"Compressed storage\", (1+M+N)*r, \" memory cells\")"
   ]
  },
  {
   "cell_type": "code",
   "execution_count": 13,
   "id": "75cc2d36",
   "metadata": {},
   "outputs": [
    {
     "name": "stdout",
     "output_type": "stream",
     "text": [
      "Shapes classical\t  U (1500, 1500)  V (1024, 1024) \t s (1024,)\n",
      "Shapes truncated\t  Ut (1500, 20)  Vt (20, 1024) \t st (20,)\n",
      "Shapes randomized\t  Ur (1500, 20)  Vr (20, 1024) \t sr (20,)\n"
     ]
    }
   ],
   "source": [
    "print(\"Shapes classical\\t\", \" U\", U.shape, \" V\", V.shape, \"\\t s\", s.shape)\n",
    "print(\"Shapes truncated\\t\", \" Ut\", Ut.shape, \" Vt\", Vt.shape, \"\\t st\", st.shape)\n",
    "print(\"Shapes randomized\\t\", \" Ur\", Ur.shape, \" Vr\", Vr.shape, \"\\t sr\", sr.shape)"
   ]
  },
  {
   "cell_type": "markdown",
   "id": "c14c3bcf",
   "metadata": {},
   "source": [
    "# Low rank structure and fact matrix by vector product\n",
    "\n",
    "Low rank structure of the target matrix $A \\in \\mathbb{R}^{M \\times N}$ allows one to reduce the complexity of the common operation in linear algebra $-$ the calculation of the matrix by vector product $Ax$.\n",
    "\n",
    "Indeed,\n",
    "$$A x= U \\Sigma V x = U (\\Sigma (V x))$$.\n",
    "Thus, we should follow the steps:\n",
    "1. $y = Vx, V \\in \\mathbb{R}^{R \\times N}$ -- requires $O(NR)$ operations.\n",
    "2. $z = \\Sigma y$ -- requires $O(R)$ operations because $\\Sigma$ is diagonal.\n",
    "3. $v = U z = Ax,  U \\in \\mathbb{R}^{N \\times R}$  -- requires $O(M\\cdot R)$ operations.\n",
    "\n",
    "All in all, we need $O( (M+N+1)R)$ operations for $Ax$ instead of original $O(M \\cdot N)$. If $R \\ll M$, $R \\ll N$ then it is really a fast operation.\n",
    "\n",
    "##### Excercises:\n",
    "1. Implement the rank-truncated SVD following the accuracy parameter $\\varepsilon$ truncation in Frobenius norm and in spectral norm.\n",
    "2. Load any black and white image as numpy array and check its SVD-compression by changing the rank of the truncation.\n",
    "3. Implement an efficient SVD-based $\\varepsilon$-truncation of any low-rank skeleton decomposition for matrix $A = UV$ without reconstruction of the original matrix $A$. \n",
    "4. Implement an efficient elementwise sum operation for a low-rank matrix."
   ]
  },
  {
   "cell_type": "code",
   "execution_count": 14,
   "id": "53f793b2",
   "metadata": {},
   "outputs": [],
   "source": [
    "vec = np.random.randn(N)"
   ]
  },
  {
   "cell_type": "code",
   "execution_count": 15,
   "id": "92f1ca3f",
   "metadata": {},
   "outputs": [
    {
     "name": "stdout",
     "output_type": "stream",
     "text": [
      "891 µs ± 97.5 µs per loop (mean ± std. dev. of 7 runs, 1,000 loops each)\n"
     ]
    }
   ],
   "source": [
    "%%timeit \n",
    "Ma @ vec"
   ]
  },
  {
   "cell_type": "code",
   "execution_count": 16,
   "id": "2ef4c7be",
   "metadata": {},
   "outputs": [
    {
     "name": "stdout",
     "output_type": "stream",
     "text": [
      "15.8 µs ± 1.13 µs per loop (mean ± std. dev. of 7 runs, 100,000 loops each)\n"
     ]
    }
   ],
   "source": [
    "%%timeit \n",
    "Ut @ (st * (Vt @ vec))"
   ]
  },
  {
   "cell_type": "code",
   "execution_count": 14,
   "id": "d4d44496",
   "metadata": {},
   "outputs": [
    {
     "name": "stdout",
     "output_type": "stream",
     "text": [
      "Matvec err=  1.2074002232163095e-10\n",
      "Matvec rel err=  4.530827182474217e-11\n"
     ]
    }
   ],
   "source": [
    "y1 = Ma @ vec\n",
    "y2 = Ut @ (st * (Vt @ vec))\n",
    "matvec_err = np.linalg.norm(y1 - y2)\n",
    "rel_matvec_err =  matvec_err/np.linalg.norm(y1)\n",
    "print(\"Matvec err= \", matvec_err)\n",
    "print(\"Matvec rel err= \", rel_matvec_err)"
   ]
  }
 ],
 "metadata": {
  "kernelspec": {
   "display_name": "Python 3 (ipykernel)",
   "language": "python",
   "name": "python3"
  },
  "language_info": {
   "codemirror_mode": {
    "name": "ipython",
    "version": 3
   },
   "file_extension": ".py",
   "mimetype": "text/x-python",
   "name": "python",
   "nbconvert_exporter": "python",
   "pygments_lexer": "ipython3",
   "version": "3.9.1"
  }
 },
 "nbformat": 4,
 "nbformat_minor": 5
}
